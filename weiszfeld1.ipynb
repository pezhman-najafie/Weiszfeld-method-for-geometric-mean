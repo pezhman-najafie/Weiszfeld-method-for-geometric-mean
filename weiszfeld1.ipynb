{
 "cells": [
  {
   "cell_type": "code",
   "execution_count": 1,
   "metadata": {
    "collapsed": true
   },
   "outputs": [],
   "source": [
    "import scipy.io\n",
    "import numpy as np"
   ]
  },
  {
   "cell_type": "code",
   "execution_count": 2,
   "outputs": [],
   "source": [
    "def weiszfeld_algorithm(points, epsilon=1e-6):\n",
    "    # Number of points and dimensions\n",
    "    n, d = points.shape\n",
    "\n",
    "    # Initialize the geometric median\n",
    "    geometric_median = np.mean(points, axis=0)\n",
    "\n",
    "    while True:\n",
    "        # Compute the distances between the current estimate of the geometric median and all points\n",
    "        distances = np.linalg.norm(points - geometric_median, axis=1)\n",
    "\n",
    "        # Compute the weighted sum of points\n",
    "        weighted_sum = np.sum(points / distances[:, np.newaxis], axis=0)\n",
    "\n",
    "        # Compute the new estimate of the geometric median\n",
    "        new_geometric_median = weighted_sum / np.sum(1 / distances)\n",
    "\n",
    "        # Check for convergence\n",
    "        if np.linalg.norm(new_geometric_median - geometric_median) < epsilon:\n",
    "            break\n",
    "\n",
    "        geometric_median = new_geometric_median\n",
    "\n",
    "    return geometric_median"
   ],
   "metadata": {
    "collapsed": false,
    "pycharm": {
     "name": "#%%\n"
    }
   }
  },
  {
   "cell_type": "code",
   "execution_count": 3,
   "outputs": [
    {
     "name": "stdout",
     "output_type": "stream",
     "text": [
      "Geometric Median: [ 0.03092962 -0.12750875]\n"
     ]
    }
   ],
   "source": [
    "# Load the mat file\n",
    "data = scipy.io.loadmat(r'C:\\Users\\pezhm\\Desktop\\exe\\Data-for-Weiszfeld-Algorithm.mat')\n",
    "\n",
    "# Extract the points from the loaded data (assuming the points are stored in a variable named 'points')\n",
    "points = data['x']\n",
    "\n",
    "# Calculate the geometric median using Weiszfeld's algorithm\n",
    "geometric_median = weiszfeld_algorithm(points)\n",
    "\n",
    "print(\"Geometric Median:\", geometric_median)"
   ],
   "metadata": {
    "collapsed": false,
    "pycharm": {
     "name": "#%%\n"
    }
   }
  },
  {
   "cell_type": "code",
   "execution_count": null,
   "outputs": [],
   "source": [],
   "metadata": {
    "collapsed": false,
    "pycharm": {
     "name": "#%%\n"
    }
   }
  }
 ],
 "metadata": {
  "kernelspec": {
   "display_name": "Python 3",
   "language": "python",
   "name": "python3"
  },
  "language_info": {
   "codemirror_mode": {
    "name": "ipython",
    "version": 2
   },
   "file_extension": ".py",
   "mimetype": "text/x-python",
   "name": "python",
   "nbconvert_exporter": "python",
   "pygments_lexer": "ipython2",
   "version": "2.7.6"
  }
 },
 "nbformat": 4,
 "nbformat_minor": 0
}